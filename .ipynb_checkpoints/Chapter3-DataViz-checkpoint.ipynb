{
 "cells": [
  {
   "cell_type": "code",
   "execution_count": 27,
   "metadata": {},
   "outputs": [],
   "source": [
    "import pandas as pd\n",
    "from collections import defaultdict\n",
    "from matplotlib import pyplot as plt\n",
    "from dateutil.parser import parse"
   ]
  },
  {
   "cell_type": "code",
   "execution_count": 2,
   "metadata": {},
   "outputs": [
    {
     "data": {
      "text/html": [
       "<div>\n",
       "<style scoped>\n",
       "    .dataframe tbody tr th:only-of-type {\n",
       "        vertical-align: middle;\n",
       "    }\n",
       "\n",
       "    .dataframe tbody tr th {\n",
       "        vertical-align: top;\n",
       "    }\n",
       "\n",
       "    .dataframe thead th {\n",
       "        text-align: right;\n",
       "    }\n",
       "</style>\n",
       "<table border=\"1\" class=\"dataframe\">\n",
       "  <thead>\n",
       "    <tr style=\"text-align: right;\">\n",
       "      <th></th>\n",
       "      <th>date</th>\n",
       "      <th>long</th>\n",
       "      <th>lat</th>\n",
       "    </tr>\n",
       "  </thead>\n",
       "  <tbody>\n",
       "    <tr>\n",
       "      <th>0</th>\n",
       "      <td>2019-09-04T00:38:44+00:00</td>\n",
       "      <td>-80.269288</td>\n",
       "      <td>26.287049</td>\n",
       "    </tr>\n",
       "    <tr>\n",
       "      <th>1</th>\n",
       "      <td>2019-09-04T00:45:44+00:00</td>\n",
       "      <td>-80.193000</td>\n",
       "      <td>25.758000</td>\n",
       "    </tr>\n",
       "    <tr>\n",
       "      <th>2</th>\n",
       "      <td>2019-09-04T01:28:38+00:00</td>\n",
       "      <td>-82.550940</td>\n",
       "      <td>27.266150</td>\n",
       "    </tr>\n",
       "    <tr>\n",
       "      <th>3</th>\n",
       "      <td>2019-09-04T04:04:09+00:00</td>\n",
       "      <td>-81.356770</td>\n",
       "      <td>28.451191</td>\n",
       "    </tr>\n",
       "    <tr>\n",
       "      <th>4</th>\n",
       "      <td>2019-09-04T04:54:53+00:00</td>\n",
       "      <td>-82.653422</td>\n",
       "      <td>27.768039</td>\n",
       "    </tr>\n",
       "  </tbody>\n",
       "</table>\n",
       "</div>"
      ],
      "text/plain": [
       "                        date       long        lat\n",
       "0  2019-09-04T00:38:44+00:00 -80.269288  26.287049\n",
       "1  2019-09-04T00:45:44+00:00 -80.193000  25.758000\n",
       "2  2019-09-04T01:28:38+00:00 -82.550940  27.266150\n",
       "3  2019-09-04T04:04:09+00:00 -81.356770  28.451191\n",
       "4  2019-09-04T04:54:53+00:00 -82.653422  27.768039"
      ]
     },
     "execution_count": 2,
     "metadata": {},
     "output_type": "execute_result"
    }
   ],
   "source": [
    "df = pd.read_csv('date_long_lat_fl_2019.csv')\n",
    "df.head()"
   ]
  },
  {
   "cell_type": "code",
   "execution_count": 30,
   "metadata": {},
   "outputs": [],
   "source": [
    "with open('date_long_lat_fl_2019.csv') as file:\n",
    "    data = defaultdict(list)\n",
    "    keys = file.readline()\n",
    "    for line in file:\n",
    "        line_list = line.replace('\\n','').split(',')\n",
    "        data['datetime'].append(parse(line_list[0]))\n",
    "        data['lon'].append(float(line_list[1]))\n",
    "        data['lat'].append(float(line_list[2]))"
   ]
  },
  {
   "cell_type": "code",
   "execution_count": 31,
   "metadata": {},
   "outputs": [
    {
     "data": {
      "image/png": "[encoded data removed]",
      "text/plain": [
       "<Figure size 432x288 with 1 Axes>"
      ]
     },
     "metadata": {
      "needs_background": "light"
     },
     "output_type": "display_data"
    }
   ],
   "source": [
    "plt.scatter(data['lon'], data['lat'])\n",
    "plt.title('Location of Tweets')\n",
    "plt.xlabel('Longitude')\n",
    "plt.ylabel('Latitude')\n",
    "plt.show()"
   ]
  }
 ],
 "metadata": {
  "kernelspec": {
   "display_name": "DSBase",
   "language": "python",
   "name": "dsbase"
  },
  "language_info": {
   "codemirror_mode": {
    "name": "ipython",
    "version": 3
   },
   "file_extension": ".py",
   "mimetype": "text/x-python",
   "name": "python",
   "nbconvert_exporter": "python",
   "pygments_lexer": "ipython3",
   "version": "3.6.12"
  },
  "widgets": {
   "application/vnd.jupyter.widget-state+json": {
    "state": {},
    "version_major": 2,
    "version_minor": 0
   }
  }
 },
 "nbformat": 4,
 "nbformat_minor": 4
}
